{
 "cells": [
  {
   "cell_type": "markdown",
   "id": "7f5b414e",
   "metadata": {},
   "source": [
    "強化学習\n",
    "=======\n",
    "```{epigraph}\n",
    "兵に常勢なく水に常形なし\n",
    "\n",
    "-- 孫子\n",
    "```\n",
    "\n",
    "私たちは日常生活で様々な状況に直面し、行動を選択します。\n",
    "その結果に基づいて次の行動を調整していきます。  \n",
    "「この行動は良い結果をもたらした」「あの選択は失敗だった」という経験から学習するプロセスは、まさに**強化学習**の考え方そのものです。\n",
    "\n",
    "強化学習とは、**環境との相互作用**を通じて、**報酬を最大化**するように行動を学習する機械学習の一分野です。\n",
    "エージェントは行動を選択し、環境から状態と報酬を受け取り、これらの経験に基づいて方策を改善していきます。\n",
    "\n",
    "強化学習の応用例は多岐にわたります。\n",
    "\n",
    "- ゲームAIの開発\n",
    "- ロボット制御\n",
    "- 自動運転技術\n",
    "- 推薦システム\n",
    "- トレーディングアルゴリズム\n",
    "\n",
    "## 強化学習の基本\n",
    "\n",
    "強化学習には以下の基本要素があります：\n",
    "\n",
    "1. **エージェント**：学習し行動する主体\n",
    "2. **環境**：エージェントが相互作用する外部世界\n",
    "3. **状態 (S)**：環境の現在の状況\n",
    "4. **行動 (A)**：エージェントが選択できる選択肢\n",
    "5. **報酬 (R)**：行動の結果として環境から得られる数値\n",
    "6. **方策 (Policy)**：各状態でどの行動を選ぶかを決める戦略\n",
    "\n",
    "強化学習の目標は、将来の報酬の総和（累積報酬）を最大化する最適な方策を見つけることです。\n",
    "\n",
    "## Q-Learningとは\n",
    "\n",
    "Q-Learningは、環境と相互作用しながら最適な決定を行うようにエージェントを訓練するためのモデルフリー強化学習アルゴリズムです。\n",
    "Q-Learningの「Q」は「Quality（質）」を表し、特定の状態で特定の行動をとることの価値（Q値）を学習します。\n",
    "\n",
    "**モデルフリー**とは、環境のモデル（状態遷移確率や報酬の仕組み）を事前に知らなくても、試行錯誤を通じて学習できるという意味です。\n",
    "\n",
    "### Q値とQテーブル\n",
    "\n",
    "Q値は特定の状態で特定の行動をとることの期待報酬を表します。\n",
    "これらの値はQテーブルに格納され、エージェントの記憶構造として機能します。\n",
    "\n",
    "Qテーブルの構造：\n",
    "\n",
    "- 行は状態を表す\n",
    "- 列は可能な行動を表す\n",
    "- 各セルには、その状態-行動ペアのQ値が含まれる\n",
    "\n",
    "エージェントが環境を探索し、相互作用から学習するにつれて、Qテーブルを更新し、意思決定能力を徐々に向上させていきます。\n",
    "\n",
    "### Q-Learningの更新式\n",
    "\n",
    "Q-learningの核心は、時間差分（Temporal Difference）更新式です。\n",
    "\n",
    "```{math}\n",
    ":label: td-eq\n",
    "Q(S,A) \\leftarrow Q(S,A) + \\alpha (R + \\gamma \\max_{A'} Q(S',A') - Q(S,A))\n",
    "```\n",
    "\n",
    "ここで：\n",
    "- $Q(S,A)$ は状態Sで行動Aをとる現在のQ値\n",
    "- $\\alpha$ （アルファ）は学習率（0～1）で、新しい情報をどの程度Q値に反映させるかを決定します\n",
    "- $R$ は状態Sで行動Aをとった際に得られる報酬\n",
    "- $\\gamma$ （ガンマ）は割引率（0～1）で、即時報酬と将来の報酬のバランスを取る\n",
    "- $S'$ はエージェントが次に移動する状態\n",
    "- $A'$ は状態$S'$での最良の次の行動\n",
    "- $\\max_{A'} Q(S',A')$ は次の状態での最大Q値\n",
    "\n",
    "この式は、「現在の見積もり」と「新しい情報に基づく見積もり」の差を取り、その一部を現在の見積もりに加えることで、エージェントが徐々にQ値を洗練させる助けとなります。\n",
    "\n",
    "### 探索と活用のバランス\n",
    "\n",
    "Q-learningの重要な側面は、探索（より良い戦略を発見するために新しい行動を試す）と活用（既知の良い戦略を使用する）のバランスを取ることです。これは通常、$\\epsilon$-greedy方策によって実現されます。\n",
    "\n",
    "- **活用**：確率$1-\\epsilon$で、エージェントは最高のQ値を持つ行動を選択\n",
    "- **探索**：確率$\\epsilon$で、エージェントはランダムな行動を選択\n",
    "\n",
    "時間の経過とともに、$\\epsilon$の値は通常減少し、エージェントが環境についてより多くを学ぶにつれて、探索から活用への移行を可能にします。\n",
    "\n",
    "## Q-Learningアルゴリズムの実装\n",
    "\n",
    "簡単な迷路を解くプログラムをQ-Learningで実装してみましょう。\n",
    "4×4のグリッド上で、スタートからゴールまで最短経路を学習させます。\n",
    "\n",
    "### 迷路\n",
    "\n",
    "まずは迷路を定義します。この迷路では\n",
    "\n",
    "- 0は通路\n",
    "- 1は壁\n",
    "- 2はゴール\n",
    "\n",
    "として表します。\n",
    "\n",
    "numpyを使って迷路を表現すると以下のようになるでしょう。"
   ]
  },
  {
   "cell_type": "code",
   "execution_count": 1,
   "id": "666f2481",
   "metadata": {},
   "outputs": [],
   "source": [
    "import numpy as np\n",
    "\n",
    "maze = np.array([\n",
    "    [0, 0, 0, 0],\n",
    "    [0, 1, 0, 1],\n",
    "    [0, 0, 0, 0],\n",
    "    [1, 1, 0, 2]\n",
    "])"
   ]
  },
  {
   "cell_type": "markdown",
   "id": "ae0a9764",
   "metadata": {},
   "source": [
    "このままだと分かりにくいので、\n",
    "matplotを使って迷路を可視化してみましょう。"
   ]
  },
  {
   "cell_type": "code",
   "execution_count": 2,
   "id": "49f544ca",
   "metadata": {},
   "outputs": [
    {
     "data": {
      "image/png": "[encoded data removed]",
      "text/plain": [
       "<Figure size 600x600 with 1 Axes>"
      ]
     },
     "metadata": {},
     "output_type": "display_data"
    }
   ],
   "source": [
    "import matplotlib.pyplot as plt\n",
    "from matplotlib.colors import ListedColormap\n",
    "\n",
    "def render(maze):\n",
    "    plt.figure(figsize=(6, 6))\n",
    "    \n",
    "    # 色分けの設定\n",
    "    colors = ListedColormap(['white', 'black', 'green', 'red'])\n",
    "    plt.imshow(maze, cmap=colors)\n",
    "    \n",
    "    # グリッド線の表示\n",
    "    plt.grid(which='major', axis='both', linestyle='-', color='k', linewidth=2)\n",
    "    plt.xticks(np.arange(-.5, 4, 1), [])\n",
    "    plt.yticks(np.arange(-.5, 4, 1), [])\n",
    "    \n",
    "    plt.title(\"Maze\")\n",
    "    plt.show()\n",
    "\n",
    "render(maze)"
   ]
  },
  {
   "cell_type": "markdown",
   "id": "5ebd5250",
   "metadata": {},
   "source": [
    "このようにして、迷路に対してどんどん関数を追加していくのですが、\n",
    "このままでは迷路用の関数が増え、プログラムが分かりにくくなっていきます。\n",
    "そこで、**オブジェクト指向**の考え方を使ってプログラムを作成し、分かりやすくします。\n",
    "\n",
    "オブジェクト指向プログラミングでは**オブジェクト**を中心としてプログラミングを行います。\n",
    "オブジェクトとは、データとそれらを操作する関数をまとめて1つにしたものです。\n",
    "\n",
    "オブジェクト指向の定義は様々ありますが、ここではPythonで提供されている機能\n",
    "\n",
    "- クラス\n",
    "- 継承\n",
    "- カプセル化\n",
    "\n",
    "を用いて、オブジェクト指向について学びます。\n",
    "\n",
    "#### オブジェクト指向\n",
    "\n",
    "**オブジェクト指向プログラミング** (Object-Oriented Programming)で使われる用語\n",
    "\n",
    "- **クラス (class)**\n",
    "- **インスタンス (instance)**\n",
    "\n",
    "について説明します。\n",
    "\n",
    "プログラムの中で猫のデータを作成したいとします。\n",
    "それぞれの猫は同じように歩けるし、鳴けます。\n",
    "猫に共通した部分のコードがクラスとなります。\n",
    "\n",
    "クラスは設計図のようなもので、それだけでは動く**実体**とはなりません。\n",
    "そのため、クラスから実体を作る必要があります。\n",
    "クラスから作成された実体のことを**インスタンス**(instance)または**オブジェクト**(object)といいます。\n",
    "また、クラスから実体を作ることを**インスタンス化**(instantiation)といいます。\n",
    "\n",
    "#### クラスの定義\n",
    "\n",
    "Pythonで猫の設計図を表す`Cat`というクラスを定義してみます。\n",
    "猫の動作として鳴くメソッド`mew`を定義します。\n",
    "オブジェクトから呼ばれる関数のことを**メソッド**といいます。"
   ]
  },
  {
   "cell_type": "code",
   "execution_count": 3,
   "id": "7a6372ad",
   "metadata": {},
   "outputs": [
    {
     "name": "stdout",
     "output_type": "stream",
     "text": [
      "にゃー\n"
     ]
    }
   ],
   "source": [
    "# クラスの定義\n",
    "class Cat:\n",
    "  def mew(self):\n",
    "    print(\"にゃー\")\n",
    "\n",
    "#インスタンス化\n",
    "tama = Cat()\n",
    "\n",
    "#メソッド呼び出し\n",
    "tama.mew()"
   ]
  },
  {
   "cell_type": "markdown",
   "id": "e055fb2b",
   "metadata": {},
   "source": [
    "メソッドの最初の引数は`self`になります。\n",
    "今回のように引数を必要としないメソッドでも必ずselfが引数として必要になります。\n",
    "`self`というのは作成されたインスタンス自身を参照するために用いられます。\n",
    "\n",
    "メソッドはインスタンスから呼び出されるとき自動的に第一引数にそのインスタンスへの参照を渡します。\n",
    "そのため、メソッドの第一引数は`self`となり、渡されてくる自分自身への参照を受け取るようになっています。\n",
    "ただし、呼び出す際にはそのインスタンスを引数に指定する必要はありません。\n",
    "\n",
    "mewに鳴く回数を引数として渡せるようにしてみましょう。"
   ]
  },
  {
   "cell_type": "code",
   "execution_count": 4,
   "id": "8cff5ea2",
   "metadata": {},
   "outputs": [
    {
     "name": "stdout",
     "output_type": "stream",
     "text": [
      "にゃーにゃーにゃー\n"
     ]
    }
   ],
   "source": [
    "class Cat:\n",
    "  def mew(self, n):\n",
    "    print(\"にゃー\"*n)\n",
    "\n",
    "#インスタンス化\n",
    "tama = Cat()\n",
    "\n",
    "#メソッド呼び出し\n",
    "tama.mew(3)"
   ]
  },
  {
   "cell_type": "markdown",
   "id": "4bd4abce",
   "metadata": {},
   "source": [
    "例のコードでは猫共通の動作であるmewを定義しましたが、\n",
    "それぞれの猫が保つ属性（例えば名前など）がありません。\n",
    "\n",
    "猫が名前を持てるようにしてみます。"
   ]
  },
  {
   "cell_type": "code",
   "execution_count": 5,
   "id": "22df2e12",
   "metadata": {},
   "outputs": [
    {
     "name": "stdout",
     "output_type": "stream",
     "text": [
      "タマ\n",
      "チビ\n",
      "にゃーにゃーにゃー\n",
      "にゃーにゃーにゃーにゃーにゃー\n"
     ]
    }
   ],
   "source": [
    "class Cat:\n",
    "  def __init__(self, name):\n",
    "    self.name = name\n",
    "\n",
    "  def mew(self, n):\n",
    "    print(\"にゃー\"*n)\n",
    "\n",
    "#インスタンス化\n",
    "my_cat = Cat('タマ')\n",
    "tibi = Cat('チビ')\n",
    "\n",
    "print(my_cat.name)\n",
    "print(tibi.name)\n",
    "\n",
    "my_cat.mew(3)\n",
    "tibi.mew(5)"
   ]
  },
  {
   "cell_type": "markdown",
   "id": "6dc1c1dd",
   "metadata": {},
   "source": [
    "`Cat`というクラスの`__init__()`メソッドに、`'タマ'`という文字列を渡しています。\n",
    "`my_cat`が、`Cat`クラスから作成されたインスタンスです。\n",
    "\n",
    "`__init__()`メソッドは特別なメソッドで、クラスがインスタンス化されるときに必ず呼ばれます。\n",
    "\n",
    "`self.name`はそのクラスの属性で、どのメソッドからも参照できます。\n",
    "\n",
    "#### 継承\n",
    "\n",
    "**継承**(inheritance)を使うと、あるクラスの一部の機能を変更したり、新しい機能を付け足したりできるようになります。\n",
    "\n",
    "例として、`R`というクラスを定義し、そのクラスを継承した`SR`という新しいクラスを作ってみましょう。\n",
    "\n",
    "`R`クラスを定義します。"
   ]
  },
  {
   "cell_type": "code",
   "execution_count": 6,
   "id": "4d804220",
   "metadata": {},
   "outputs": [],
   "source": [
    "class R:\n",
    "    def __init__(self):\n",
    "        self.a = 1\n",
    "        self.b = 2"
   ]
  },
  {
   "cell_type": "markdown",
   "id": "2acf0ca2",
   "metadata": {},
   "source": [
    "`R`というクラスは、インスタンス化を行う際に引数をとりませんが、\n",
    "属性として`a`と`b`の2つの変数を保持し、それぞれには`__init__()`メソッドで`1`と`2`という値が代入されます。\n",
    "\n",
    "次に、このクラスを継承する`SR`クラスを定義します。\n",
    "継承を行う場合は、クラス定義の際にクラス名に続けて`()`を書き、その中に継承したいクラスの名前を書きます。\n",
    "`()`の中に書かれたクラスは、定義されるクラスの親クラスといいます。\n",
    "それに対し、`()`の中に書かれたクラスからすると、定義されるクラスは子クラスとなります。"
   ]
  },
  {
   "cell_type": "code",
   "execution_count": 7,
   "id": "782200b0",
   "metadata": {},
   "outputs": [],
   "source": [
    "class SR(R):\n",
    "    def sum(self):\n",
    "        return self.a + self.b"
   ]
  },
  {
   "cell_type": "markdown",
   "id": "15cd5ab6",
   "metadata": {},
   "source": [
    "`SR`クラスは `__init__()`メソッドの定義がありません。\n",
    "`__init__()`メソッドが定義されていない場合は、親クラスの`__init__()`メソッドが自動的に呼び出されます。\n",
    "そのため、`SR` クラスでは一見何も属性を定義していないように見えますが、\n",
    "インスタンス化を行うと親クラスである`R`の`__init__()`メソッドが自動的に実行され、`a`、`b` という属性が定義されます。\n",
    "以下のコードで動きを確認してみましょう。"
   ]
  },
  {
   "cell_type": "code",
   "execution_count": 8,
   "id": "67ab367e",
   "metadata": {},
   "outputs": [
    {
     "name": "stdout",
     "output_type": "stream",
     "text": [
      "1 2\n",
      "3\n"
     ]
    }
   ],
   "source": [
    "c = SR()\n",
    "print(c.a, c.b)\n",
    "print(c.sum())"
   ]
  },
  {
   "cell_type": "markdown",
   "id": "f68feadd",
   "metadata": {},
   "source": [
    "このように、親クラスを継承し、新しい機能が追加された新しいクラスを定義できるようになります。\n",
    "継承を使えば、既存のクラスの差分を簡単に作れます。\n",
    "\n",
    "この`SR`というクラスにも`__init__()`メソッドを定義し、新しい属性`c`を定義しましょう。\n",
    "`sum()`メソッドでは親クラスの `a`、`b`という属性と、新たな`c`という属性の3つの和を返すように変更します。"
   ]
  },
  {
   "cell_type": "code",
   "execution_count": 9,
   "id": "e107e975",
   "metadata": {},
   "outputs": [
    {
     "name": "stdout",
     "output_type": "stream",
     "text": [
      "'SR' object has no attribute 'a'\n"
     ]
    }
   ],
   "source": [
    "class SR(R):\n",
    "    def __init__(self):\n",
    "        self.c = 5  # self.c を新たに追加\n",
    "    \n",
    "    def sum(self):\n",
    "        return self.a + self.b + self.c\n",
    "\n",
    "# インスタンス化\n",
    "c = SR()\n",
    "try:\n",
    "    c.sum()\n",
    "except Exception as e:\n",
    "    print(e)"
   ]
  },
  {
   "cell_type": "markdown",
   "id": "5db1acd5",
   "metadata": {},
   "source": [
    "`c.sum()`の部分でエラーが出るのですが、そのままだと分かりずらいので、try-except文を使ってエラーを表示しています。\n",
    "\n",
    "try-except文は\n",
    "```python\n",
    "try:\n",
    "    # エラーが発生する可能性のある処理\n",
    "except エラーの種類:\n",
    "    # エラーが発生したときの処理\n",
    "```\n",
    "という書き方をします。\n",
    "\n",
    "エラーメッセージを読んでみましょう。\n",
    "\n",
    "エラーには「`'SR'` というオブジェクトは`'a'` という名前の属性を持っていない」と書いてあります。\n",
    "`a` という属性は、`SR`の親クラスである`R`の`__init__()`メソッドで定義されています。\n",
    "そのため、`SR`クラスをインスタンス化する際に、\n",
    "親クラスである`R`の`__init__()`メソッドが呼ばれているのであれば、\n",
    "このエラーは起こらないはずです。\n",
    "\n",
    "`SR`クラスにも`__init__()`メソッドを定義したため、\n",
    "親クラスである`R`の`__init__()`メソッドが上書きされてしまい、\n",
    "実行されなかったことがエラーの原因です。\n",
    "\n",
    "親クラスの`__init__()`メソッドを明示的に呼べば、このエラーは解決できます。\n",
    "それには、`super()`という組み込み関数を用います。\n",
    "この関数を使うと、子クラスから親クラスを参照できるようになります。"
   ]
  },
  {
   "cell_type": "code",
   "execution_count": 10,
   "id": "c3363036",
   "metadata": {},
   "outputs": [
    {
     "data": {
      "text/plain": [
       "8"
      ]
     },
     "execution_count": 10,
     "metadata": {},
     "output_type": "execute_result"
    }
   ],
   "source": [
    "class SR(R):\n",
    "    def __init__(self):\n",
    "        # 親クラスの `__init__()` メソッドを呼び出す\n",
    "        super().__init__()\n",
    "        \n",
    "        # self.c を新たに追加\n",
    "        self.c = 5\n",
    "    \n",
    "    def sum(self):\n",
    "        return self.a + self.b + self.c\n",
    "\n",
    "# インスタンス化\n",
    "c = SR()\n",
    "c.sum()"
   ]
  },
  {
   "cell_type": "markdown",
   "id": "8b8a98e4",
   "metadata": {},
   "source": [
    "今回は実行できましたね。\n",
    "`SR`クラスの`__init__()`メソッドの最初で、親クラスの`__init__()`メソッドを実行し、\n",
    "`a`、`b`という属性を定義しているため、エラーは起きなくなっています。\n",
    "\n",
    "あるクラスを継承して作られたクラスを、さらに継承して別のクラスを定義できます。"
   ]
  },
  {
   "cell_type": "code",
   "execution_count": 11,
   "id": "8cffc4de",
   "metadata": {},
   "outputs": [],
   "source": [
    "class SSR(SR):\n",
    "    \n",
    "    def mul(self):\n",
    "        return self.a * self.b * self.c"
   ]
  },
  {
   "cell_type": "markdown",
   "id": "a02123c4",
   "metadata": {},
   "source": [
    "`SSR`クラスは、`R`クラスを継承した`SR`クラスをさらに継承したクラスで、\n",
    "`a`、`b`、`c`という3つの属性を掛け合わせた結果を返す`mul()`というメソッドを持ちます。\n",
    "\n",
    "このクラスのインスタンスを作成し、`mul()`を実行してみましょう。"
   ]
  },
  {
   "cell_type": "code",
   "execution_count": 12,
   "id": "cf842eaa",
   "metadata": {},
   "outputs": [
    {
     "name": "stdout",
     "output_type": "stream",
     "text": [
      "10\n",
      "8\n"
     ]
    }
   ],
   "source": [
    "c = SSR()\n",
    "print(c.mul())\n",
    "print(c.sum()) #もちろんこれもできる"
   ]
  },
  {
   "cell_type": "markdown",
   "id": "f0f254d9",
   "metadata": {},
   "source": [
    "#### カプセル化\n",
    "\n",
    "カプセル化とは、操作とその操作に関連するデータをまとめることをいいます。\n",
    "\n",
    "Personという人間を表すクラスをつかって考えてみましょう。"
   ]
  },
  {
   "cell_type": "code",
   "execution_count": 13,
   "id": "5b3727e2",
   "metadata": {},
   "outputs": [
    {
     "name": "stdout",
     "output_type": "stream",
     "text": [
      "Tanjiro - 165cm 61kg\n"
     ]
    }
   ],
   "source": [
    "class Person:\n",
    "  def __init__(self, name, hight, weight):\n",
    "    self.name = name\n",
    "    self.hight = hight\n",
    "    self.weight = weight\n",
    "  \n",
    "  def check(self):\n",
    "    print(f\"{self.name} - {self.hight}cm {self.weight}kg\")\n",
    "\n",
    "k = Person('Tanjiro', 165, 61)\n",
    "\n",
    "k.check()"
   ]
  },
  {
   "cell_type": "markdown",
   "id": "05c20ef9",
   "metadata": {},
   "source": [
    "このクラスにBMIを計算するメソッドを追加してみます。"
   ]
  },
  {
   "cell_type": "code",
   "execution_count": 14,
   "id": "94bd7b18",
   "metadata": {},
   "outputs": [
    {
     "data": {
      "text/plain": [
       "22.4058769513315"
      ]
     },
     "execution_count": 14,
     "metadata": {},
     "output_type": "execute_result"
    }
   ],
   "source": [
    "class Person:\n",
    "  def __init__(self, name, hight, weight):\n",
    "    self.name = name\n",
    "    self.hight = hight\n",
    "    self.weight = weight\n",
    "  \n",
    "  def check(self):\n",
    "    print(f\"{self.name} - {self.hight}cm {self.weight}kg\")\n",
    "  \n",
    "  def bmi(self):\n",
    "    return self.weight / (self.hight / 100.) ** 2\n",
    "\n",
    "k = Person('Tanjiro', 165, 61)\n",
    "\n",
    "k.bmi()"
   ]
  },
  {
   "cell_type": "markdown",
   "id": "e8959162",
   "metadata": {},
   "source": [
    "このように、関連するデータ（クラスの属性）を使うメソッドをまとめたものがクラスになっていると考えても良いでしょう。\n",
    "\n",
    "データの属性やメソッドへのアクセスをさせたくない場合は、_を属性の名前やメソッドの名前の前に２つ付けます。"
   ]
  },
  {
   "cell_type": "code",
   "execution_count": 15,
   "id": "03178a0f",
   "metadata": {},
   "outputs": [
    {
     "name": "stdout",
     "output_type": "stream",
     "text": [
      "Tanjiro - 165cm 61kg\n"
     ]
    }
   ],
   "source": [
    "class Person:\n",
    "  def __init__(self, name, hight, weight):\n",
    "    self.name = name\n",
    "    self.hight = hight\n",
    "    self.__weight = weight\n",
    "  \n",
    "  def check(self):\n",
    "    print(f\"{self.name} - {self.hight}cm {self.__weight}kg\")\n",
    "  \n",
    "  def __bmi(self):\n",
    "    return self.weight / (self.hight / 100.) ** 2\n",
    "\n",
    "k = Person('Tanjiro', 165, 61)\n",
    "\n",
    "k.check()\n",
    "## print(k.__weight) #コメントアウトしてエラーが出ることを確認"
   ]
  },
  {
   "cell_type": "markdown",
   "id": "8a9b0b8a",
   "metadata": {},
   "source": [
    "#### 迷路のクラス化\n",
    "\n",
    "では、迷路をクラスで書いてみます。"
   ]
  },
  {
   "cell_type": "code",
   "execution_count": 16,
   "id": "0fb39b0e",
   "metadata": {},
   "outputs": [],
   "source": [
    "import numpy as np\n",
    "import matplotlib.pyplot as plt\n",
    "import random\n",
    "from matplotlib.colors import ListedColormap\n",
    "\n",
    "class MazeEnvironment:\n",
    "    def __init__(self, start=(2, 0)):\n",
    "        # 0: 通路, 1: 壁, 2: ゴール\n",
    "        self.maze = np.array([\n",
    "            [0, 0, 0, 0],\n",
    "            [0, 1, 0, 1],\n",
    "            [0, 0, 0, 0],\n",
    "            [1, 1, 0, 2]\n",
    "        ])\n",
    "        self.start_state = start  # スタート位置\n",
    "        self.current_state = self.start_state\n",
    "        self.goal_state = (3, 3)  # ゴール位置\n",
    "        self.actions = [\"up\", \"right\", \"down\", \"left\"]\n",
    "        \n",
    "    def reset(self):\n",
    "        self.current_state = self.start_state\n",
    "        return self.current_state\n",
    "    \n",
    "    def step(self, action):\n",
    "        i, j = self.current_state\n",
    "        \n",
    "        # 行動に基づいて次の状態を計算\n",
    "        if action == \"up\" and i > 0:\n",
    "            next_state = (i-1, j)\n",
    "        elif action == \"right\" and j < 3:\n",
    "            next_state = (i, j+1)\n",
    "        elif action == \"down\" and i < 3:\n",
    "            next_state = (i+1, j)\n",
    "        elif action == \"left\" and j > 0:\n",
    "            next_state = (i, j-1)\n",
    "        else:\n",
    "            next_state = (i, j)\n",
    "            \n",
    "        # 壁に当たった場合は移動しない\n",
    "        next_i, next_j = next_state\n",
    "        if self.maze[next_i, next_j] == 1:\n",
    "            next_state = (i, j)\n",
    "            \n",
    "        self.current_state = next_state\n",
    "        \n",
    "        if next_state == self.goal_state:\n",
    "            reward = 100  # ゴールに到達した場合の報酬\n",
    "            done = True\n",
    "        else:\n",
    "            reward = -1  # 各ステップのペナルティ\n",
    "            done = False\n",
    "            \n",
    "        return next_state, reward, done"
   ]
  },
  {
   "cell_type": "markdown",
   "id": "9c280c98",
   "metadata": {},
   "source": [
    "この迷路環境クラスでは、迷路の状態だけでなく、\n",
    "エージェントが取れる行動（上、右、下、左）と、それに対する状態遷移、報酬の計算を定義しています。\n",
    "ゴールに到達すると大きな報酬（+100）を得られますが、\n",
    "それ以外の各ステップでは小さなペナルティ（`-1`）を受けるため、\n",
    "エージェントには最短経路を見つける動機が生まれます。\n",
    "\n",
    "### 環境の可視化\n",
    "\n",
    "迷路や学習状況を視覚化するための関数を追加します。\n",
    "今回は関数として実装しましたが、迷路環境クラスにメソッドとして定義した方が良いでしょう。"
   ]
  },
  {
   "cell_type": "code",
   "execution_count": 17,
   "id": "86c9497e",
   "metadata": {},
   "outputs": [],
   "source": [
    "def render(maze):\n",
    "    # 迷路の可視化\n",
    "    plt.figure(figsize=(6, 6))\n",
    "    \n",
    "    # 色分けの設定\n",
    "    colors = ListedColormap(['white', 'black', 'green', 'red'])\n",
    "    plt.imshow(maze.maze, cmap=colors)\n",
    "    \n",
    "    # グリッド線の表示\n",
    "    plt.grid(which='major', axis='both', linestyle='-', color='k', linewidth=2)\n",
    "    plt.xticks(np.arange(-.5, 4, 1), [])\n",
    "    plt.yticks(np.arange(-.5, 4, 1), [])\n",
    "    \n",
    "    # 現在位置の表示\n",
    "    i, j = maze.current_state\n",
    "    plt.plot(j, i, 'bo', markersize=15)\n",
    "    \n",
    "    plt.title(\"Maze Environment\")\n",
    "    plt.show()"
   ]
  },
  {
   "cell_type": "markdown",
   "id": "65ae6e6d",
   "metadata": {},
   "source": [
    "実際に迷路を可視化してみましょう。\n",
    "このプログラムを実行すると、迷路の初期状態が表示されます。"
   ]
  },
  {
   "cell_type": "code",
   "execution_count": 18,
   "id": "52952680",
   "metadata": {},
   "outputs": [
    {
     "data": {
      "image/png": "[encoded data removed]",
      "text/plain": [
       "<Figure size 600x600 with 1 Axes>"
      ]
     },
     "metadata": {},
     "output_type": "display_data"
    }
   ],
   "source": [
    "env = MazeEnvironment()\n",
    "render(env)"
   ]
  },
  {
   "cell_type": "markdown",
   "id": "78b77968",
   "metadata": {},
   "source": [
    "青い点がエージェントの位置になります。\n",
    "次に、このエージェントを上に動かし、その結果を見てみましょう。"
   ]
  },
  {
   "cell_type": "code",
   "execution_count": 19,
   "id": "c1597391",
   "metadata": {},
   "outputs": [
    {
     "data": {
      "image/png": "[encoded data removed]",
      "text/plain": [
       "<Figure size 600x600 with 1 Axes>"
      ]
     },
     "metadata": {},
     "output_type": "display_data"
    }
   ],
   "source": [
    "env.step(\"up\")\n",
    "render(env)"
   ]
  },
  {
   "cell_type": "markdown",
   "id": "db05bef0",
   "metadata": {},
   "source": [
    "エージェントが上に動いた結果を確認できましたね。\n",
    "迷路環境をクラスで定義しているので、操作に集中でき、プログラムが簡潔で分かりやすくなっています。\n",
    "\n",
    "### Q学習アルゴリズムの実装\n",
    "\n",
    "Q学習のアルゴリズムを実装します。\n",
    "\n",
    "q_tableは、状態と行動のペアをキーとして、Q値を格納する辞書になります。\n",
    "また、初期値は全て0にしておきます。"
   ]
  },
  {
   "cell_type": "code",
   "execution_count": 20,
   "id": "76629acb",
   "metadata": {},
   "outputs": [],
   "source": [
    "q_table = {}\n",
    "# Q-tableの初期化\n",
    "for i in range(4):\n",
    "    for j in range(4):\n",
    "        for a in [\"up\", \"right\", \"down\", \"left\"]:\n",
    "            q_table[((i, j), a)] = 0"
   ]
  },
  {
   "cell_type": "markdown",
   "id": "6bdc2969",
   "metadata": {},
   "source": [
    "Q-Learningのアルゴリズムを実装します。"
   ]
  },
  {
   "cell_type": "code",
   "execution_count": 21,
   "id": "9d469ec9",
   "metadata": {
    "mystnb": {
     "number_source_lines": true
    }
   },
   "outputs": [],
   "source": [
    "def q_learning(env, q_table, learning_rate=0.1, discount_factor=0.95, epsilon=1.0, epsilon_decay=0.995, epsilon_min=0.01, num_episodes=1000):\n",
    "    actions = [\"up\", \"right\", \"down\", \"left\"]\n",
    "    for episode in range(num_episodes):\n",
    "        state = env.reset()\n",
    "        total_reward = 0\n",
    "        steps = 0\n",
    "        done = False\n",
    "        \n",
    "        while not done:\n",
    "            # 行動選択（ε-greedy方策）\n",
    "            if random.uniform(0, 1) < epsilon:\n",
    "                action = random.choice(actions)\n",
    "            else:\n",
    "                q_values = [q_table[(state, a)] for a in actions]\n",
    "                action = actions[np.argmax(q_values)]\n",
    "                        \n",
    "            # 行動を実行し、次の状態と報酬を観測\n",
    "            next_state, reward, done = env.step(action)\n",
    "            \n",
    "            # Q値の更新\n",
    "            old_q_value = q_table[(state, action)]\n",
    "            next_max_q = max([q_table[(next_state, a)] for a in actions])\n",
    "            \n",
    "            new_q_value = old_q_value + learning_rate * (reward + discount_factor * next_max_q - old_q_value)\n",
    "            q_table[(state, action)] = new_q_value\n",
    "            \n",
    "            # 状態を更新\n",
    "            state = next_state\n",
    "            steps += 1\n",
    "            \n",
    "            if steps > 100:  # 無限ループ防止\n",
    "                break\n",
    "                \n",
    "        epsilon = max(epsilon_min, epsilon * epsilon_decay)        "
   ]
  },
  {
   "cell_type": "markdown",
   "id": "70f298eb",
   "metadata": {},
   "source": [
    "`q_learning`関数は、Q-Learningのアルゴリズムを実装しています。\n",
    "引数は\n",
    "\n",
    "- `env`: 環境\n",
    "- `q_table`: Qテーブル\n",
    "- `learning_rate`: 学習率\n",
    "- `discount_factor`: 割引率\n",
    "- `epsilon`: ε-greedyパラメータ\n",
    "- `epsilon_decay`: εの減衰率\n",
    "- `epsilon_min`: εの最小値\n",
    "- `num_episodes`: エピソード数\n",
    "\n",
    "を受け取ります。\n",
    "環境とQテーブルは必須で、それ以外はデフォルト値を設定しています。\n",
    "学習率0.1、割引率0.95を使用しています。\n",
    "学習率が小さいほど慎重に学習し、大きいほど新しい情報を強く反映します。\n",
    "割引率が大きいほど将来の報酬を重視します。\n",
    "\n",
    "21-25行目は、Q値の更新式{eq}`td-eq`に対応しています。\n",
    "\n",
    "では実際に学習して、start地点のQ値を見てみましょう。"
   ]
  },
  {
   "cell_type": "code",
   "execution_count": 22,
   "id": "34e0ebfa",
   "metadata": {},
   "outputs": [
    {
     "name": "stdout",
     "output_type": "stream",
     "text": [
      "up: 72.7289771353598\n",
      "right: 82.88499999999976\n",
      "down: 77.71161270081198\n",
      "left: 77.6246922574079\n"
     ]
    }
   ],
   "source": [
    "env = MazeEnvironment()\n",
    "q_learning(env, q_table)\n",
    "for a in env.actions:\n",
    "    print(f\"{a}: {q_table[(env.start_state, a)]}\")"
   ]
  },
  {
   "cell_type": "markdown",
   "id": "c54afef3",
   "metadata": {},
   "source": [
    "Q値の結果から、start地点からは右に行くと良さそうですね。\n",
    "\n",
    "### 学習した方策\n",
    "\n",
    "学習したQ値を使って、エージェントに最適な経路をたどらせてみましょう。"
   ]
  },
  {
   "cell_type": "code",
   "execution_count": 23,
   "id": "65bde056",
   "metadata": {},
   "outputs": [
    {
     "data": {
      "image/png": "[encoded data removed]",
      "text/plain": [
       "<Figure size 600x600 with 1 Axes>"
      ]
     },
     "metadata": {},
     "output_type": "display_data"
    },
    {
     "data": {
      "image/png": "[encoded data removed]",
      "text/plain": [
       "<Figure size 600x600 with 1 Axes>"
      ]
     },
     "metadata": {},
     "output_type": "display_data"
    },
    {
     "data": {
      "image/png": "[encoded data removed]",
      "text/plain": [
       "<Figure size 600x600 with 1 Axes>"
      ]
     },
     "metadata": {},
     "output_type": "display_data"
    },
    {
     "data": {
      "image/png": "[encoded data removed]",
      "text/plain": [
       "<Figure size 600x600 with 1 Axes>"
      ]
     },
     "metadata": {},
     "output_type": "display_data"
    },
    {
     "data": {
      "image/png": "[encoded data removed]",
      "text/plain": [
       "<Figure size 600x600 with 1 Axes>"
      ]
     },
     "metadata": {},
     "output_type": "display_data"
    }
   ],
   "source": [
    "state = env.reset()\n",
    "path = [state]\n",
    "done = False\n",
    "\n",
    "render(env)\n",
    "\n",
    "while not done and len(path) < 20:\n",
    "    q_values = [q_table[(state, a)] for a in env.actions]\n",
    "    action = env.actions[np.argmax(q_values)]\n",
    "\n",
    "    next_state, _, done = env.step(action)\n",
    "\n",
    "    path.append(next_state)\n",
    "\n",
    "    render(env)\n",
    "\n",
    "    state = next_state"
   ]
  },
  {
   "cell_type": "markdown",
   "id": "26300c6e",
   "metadata": {},
   "source": [
    "ちゃんとゴールに到達していますね。\n",
    "\n",
    "- Q-tableの初期値を`random`にしてみましょう。\n",
    "- 各マスでQ値が大きいほうに矢印を表示してみましょう。"
   ]
  }
 ],
 "metadata": {
  "jupytext": {
   "formats": "md:myst",
   "text_representation": {
    "extension": ".md",
    "format_name": "myst",
    "format_version": 0.13,
    "jupytext_version": "1.11.5"
   }
  },
  "kernelspec": {
   "display_name": "Python 3",
   "language": "python",
   "name": "python3"
  },
  "language_info": {
   "codemirror_mode": {
    "name": "ipython",
    "version": 3
   },
   "file_extension": ".py",
   "mimetype": "text/x-python",
   "name": "python",
   "nbconvert_exporter": "python",
   "pygments_lexer": "ipython3",
   "version": "3.11.11"
  },
  "source_map": [
   13,
   116,
   125,
   130,
   150,
   191,
   202,
   214,
   224,
   231,
   248,
   265,
   270,
   280,
   284,
   292,
   296,
   304,
   318,
   347,
   362,
   370,
   375,
   382,
   386,
   394,
   407,
   411,
   427,
   433,
   450,
   456,
   510,
   523,
   543,
   548,
   551,
   556,
   559,
   571,
   578,
   582,
   621,
   645,
   650,
   658,
   676
  ]
 },
 "nbformat": 4,
 "nbformat_minor": 5
}