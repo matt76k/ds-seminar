{
 "cells": [
  {
   "cell_type": "markdown",
   "id": "e4bdb13b",
   "metadata": {},
   "source": [
    "確率\n",
    "====\n",
    "```{epigraph}\n",
    "Probability is relative, in part to this ignorance, in part to our knowledge\n",
    "\n",
    "-- Pierre-Simon Laplace\n",
    "```\n",
    "\n",
    "データ分析を学ぶ上で確率は必須といってよいでしょう。\n",
    "\n",
    "本章では、確率の基本的な概念とその計算方法について学びます。"
   ]
  }
 ],
 "metadata": {
  "jupytext": {
   "formats": "md:myst",
   "text_representation": {
    "extension": ".md",
    "format_name": "myst",
    "format_version": 0.13,
    "jupytext_version": "1.11.5"
   }
  },
  "kernelspec": {
   "display_name": "Python 3",
   "language": "python",
   "name": "python3"
  },
  "source_map": [
   13
  ]
 },
 "nbformat": 4,
 "nbformat_minor": 5
}