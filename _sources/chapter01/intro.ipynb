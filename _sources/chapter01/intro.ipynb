{
 "cells": [
  {
   "cell_type": "markdown",
   "id": "ccb05d09",
   "metadata": {},
   "source": [
    "記述統計\n",
    "========\n",
    "```{epigraph}\n",
    "lies, damned lies, and statistics.\n",
    "\n",
    "-- Mark Twain\n",
    "```\n",
    "\n",
    "ここでは{index}`記述統計<きじゅつとうけい - 記述統計>`（{index}`Descriptive Statistics`）について学びます。\n",
    "記述統計は、データ全体の特徴を把握し、分かりやすく表現するための手法です。\n",
    "\n",
    "本章では以下の内容を取り上げます。\n",
    "\n",
    "- [中心傾向の指標](./01.md)\n",
    "  - 平均値\n",
    "  - 中央値\n",
    "  - 最頻値\n",
    "- [ばらつきの指標](./02.md)\n",
    "  - 分散\n",
    "  - 標準偏差\n",
    "\n",
    "これらの概念を学ぶとともに、各指標を計算するためのプログラムをPythonで実際に書いていきます。\n",
    "これにより、統計の理論的理解とプログラミングスキルの両方を同時に高めることができます。\n",
    "\n",
    "本章を読み終わったあとは[演習問題](../notebooks/01.ipynb)で理解を深めましょう。"
   ]
  }
 ],
 "metadata": {
  "jupytext": {
   "formats": "md:myst",
   "text_representation": {
    "extension": ".md",
    "format_name": "myst",
    "format_version": 0.13,
    "jupytext_version": "1.11.5"
   }
  },
  "kernelspec": {
   "display_name": "Python 3",
   "language": "python",
   "name": "python3"
  },
  "source_map": [
   13
  ]
 },
 "nbformat": 4,
 "nbformat_minor": 5
}