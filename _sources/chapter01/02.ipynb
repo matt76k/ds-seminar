{
 "cells": [
  {
   "cell_type": "markdown",
   "id": "f8cddfe2",
   "metadata": {},
   "source": [
    "ばらつきの指標\n",
    "============\n",
    "\n",
    "ばらつきの指標は、データの散らばり具合や変動の程度を示す統計量です。\n",
    "主な指標は以下の2つになります。\n",
    "\n",
    "- 分散\n",
    "  - データの各値と平均値との差の二乗の平均\n",
    "  - ばらつきの大きさを数値化\n",
    "  - 元のデータの単位の二乗で表される\n",
    "\n",
    "- 標準偏差\n",
    "  - 分散の正の平方根\n",
    "  - 分散と比べて元のデータと同じ単位で表されるため、解釈しやすい\n",
    "\n",
    "これらの指標は、データの散らばり方を数値で表現し、データセット間の比較や、データの特性の理解に役立ちます。\n",
    "\n",
    "## 分散（Variance）\n",
    "\n",
    "**分散**とは、データが平均からどれだけ離れているかを示す指標です。\n",
    "具体的には、各データと平均の差の二乗の平均を取ります。\n",
    "分散が大きいほど、データのばらつきが大きいといえます。\n",
    "\n",
    "分散は式{eq}`variance-formula`で計算できます。\n",
    "\n",
    "```{math}\n",
    ":label: variance-formula\n",
    "\\sigma^2 = \\frac{1}{N} \\sum_{i=1}^{N} (x_i - \\mu)^2\n",
    "```\n",
    "\n",
    "ここで、\n",
    "\n",
    "- $\\sigma^2$は分散\n",
    "- $N$はデータの個数\n",
    "- $x_i$は各データ\n",
    "- $\\mu$は平均\n",
    "\n",
    "を表しています。\n",
    "\n",
    "分散を計算するプログラムを書いてみましょう。"
   ]
  },
  {
   "cell_type": "code",
   "execution_count": 1,
   "id": "988f6edf",
   "metadata": {
    "mystnb": {
     "number_source_lines": true
    }
   },
   "outputs": [
    {
     "name": "stdout",
     "output_type": "stream",
     "text": [
      "Variance: 53.44000000000001\n"
     ]
    }
   ],
   "source": [
    "from statistics import mean\n",
    "\n",
    "scores = [75, 82, 68, 90, 78]\n",
    "mu = mean(scores)\n",
    "\n",
    "squared_diffs = [(x - mu) ** 2 for x in scores]\n",
    "\n",
    "variance = sum(squared_diffs) / len(scores)\n",
    "print(f\"Variance: {variance}\")"
   ]
  },
  {
   "cell_type": "markdown",
   "id": "f793a61f",
   "metadata": {},
   "source": [
    "プログラムの多くは今まで使ってきた機能で書かれています。\n",
    "4行目の`mean`は`statistics`モジュールにある機能で、平均を計算します。\n",
    "\n",
    "6行目で新しい機能を使っていますので、その部分の説明をします。\n",
    "\n",
    "```python\n",
    "squared_diffs = [(x - mu) ** 2 for x in scores]\n",
    "```\n",
    "\n",
    "この書き方はリストの内包記法と呼ばれています。\n",
    "この内包表記は、以下のfor文と同等の処理を行います。\n",
    "\n",
    "```python\n",
    "squared_diffs = []\n",
    "for x in scores:\n",
    "    squared_diffs.append((x - mu) ** 2)\n",
    "```\n",
    "\n",
    "各要素に対して`x`という名前をつけ、`(x - mu) ** 2` という計算を行い、その結果を新しいリストに保存しています。\n",
    "ちなみに`**`は累乗の演算で、`x ** 2`でxを2乗するという意味になります。\n",
    "\n",
    "`statistics`モジュールの`variance`関数を使って分散を求められますが、注意が必要です。\n",
    "出力結果を前のプログラムと比較してみましょう。"
   ]
  },
  {
   "cell_type": "code",
   "execution_count": 2,
   "id": "59ce24d0",
   "metadata": {
    "mystnb": {
     "number_source_lines": true
    }
   },
   "outputs": [
    {
     "name": "stdout",
     "output_type": "stream",
     "text": [
      "Variance: 66.8\n"
     ]
    }
   ],
   "source": [
    "from statistics import variance\n",
    "\n",
    "scores = [75, 82, 68, 90, 78]\n",
    "var = variance(scores)\n",
    "print(f\"Variance: {var}\")"
   ]
  },
  {
   "cell_type": "markdown",
   "id": "5ba5e77c",
   "metadata": {},
   "source": [
    "`statistics`モジュールの`variance`関数は標本分散（Sample Variance）を計算します。\n",
    "統計学では、手元にある限られたデータセット（標本）から、より大きな全体のデータの散らばり具合を推測するときに、標本分散を使用します。\n",
    "標本分散は、分母にデータの個数$N$ではなく、$N-1$を用いて計算するため、計算結果が異なっています。\n",
    "\n",
    "## 標準偏差（Standard Deviation）\n",
    "\n",
    "**標準偏差**は分散の平方根で、データのばらつきを平均からの距離として示します。\n",
    "分散と似ていますが、標準偏差は元のデータと同じ単位で表されるため、より直感的に理解しやすくなります。\n",
    "\n",
    "標準偏差$\\sigma$は式{eq}`stddev-formula`で計算できます。\n",
    "\n",
    "```{math}\n",
    ":label: stddev-formula\n",
    "\\sigma = \\sqrt{\\frac{1}{N} \\sum_{i=1}^{N} (x_i - \\mu)^2}\n",
    "```\n",
    "\n",
    "Pythonを使って標準偏差を計算するプログラムを書いてみましょう。"
   ]
  },
  {
   "cell_type": "code",
   "execution_count": 3,
   "id": "5d8bd99e",
   "metadata": {
    "mystnb": {
     "number_source_lines": true
    }
   },
   "outputs": [
    {
     "name": "stdout",
     "output_type": "stream",
     "text": [
      "Standard Deviation: 7.310266752998827\n"
     ]
    }
   ],
   "source": [
    "import math\n",
    "from statistics import mean\n",
    "\n",
    "scores = [75, 82, 68, 90, 78]\n",
    "mu = mean(scores)\n",
    "\n",
    "squared_diffs = [(x - mu) ** 2 for x in scores]\n",
    "\n",
    "variance = sum(squared_diffs) / len(scores)\n",
    "\n",
    "std_dev = math.sqrt(variance)\n",
    "print(f\"Standard Deviation: {std_dev}\")"
   ]
  },
  {
   "cell_type": "markdown",
   "id": "915abed2",
   "metadata": {},
   "source": [
    "分散を求めるプログラムとほとんど一緒で平方根を計算する部分が追加されています。\n",
    "平方根を計算するために、`math`モジュールの`sqrt`関数を使っています。"
   ]
  }
 ],
 "metadata": {
  "jupytext": {
   "formats": "md:myst",
   "text_representation": {
    "extension": ".md",
    "format_name": "myst",
    "format_version": 0.13,
    "jupytext_version": "1.11.5"
   }
  },
  "kernelspec": {
   "display_name": "Python 3",
   "language": "python",
   "name": "python3"
  },
  "language_info": {
   "codemirror_mode": {
    "name": "ipython",
    "version": 3
   },
   "file_extension": ".py",
   "mimetype": "text/x-python",
   "name": "python",
   "nbconvert_exporter": "python",
   "pygments_lexer": "ipython3",
   "version": "3.11.11"
  },
  "source_map": [
   13,
   55,
   69,
   95,
   105,
   125,
   142
  ]
 },
 "nbformat": 4,
 "nbformat_minor": 5
}