{
 "cells": [
  {
   "cell_type": "markdown",
   "id": "40e1559b",
   "metadata": {},
   "source": [
    "プログラミング\n",
    "===========\n",
    "先にPythonでのプログラミングを知っておきたいという人のために本章を用意しました。\n",
    "本書では紹介していないプログラミングの概念もありますが、知っておくとよりよいプログラムが書けるようになります。"
   ]
  }
 ],
 "metadata": {
  "jupytext": {
   "formats": "md:myst",
   "text_representation": {
    "extension": ".md",
    "format_name": "myst",
    "format_version": 0.13,
    "jupytext_version": "1.11.5"
   }
  },
  "kernelspec": {
   "display_name": "Python 3",
   "language": "python",
   "name": "python3"
  },
  "source_map": [
   13
  ]
 },
 "nbformat": 4,
 "nbformat_minor": 5
}