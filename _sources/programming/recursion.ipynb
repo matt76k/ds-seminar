{
 "cells": [
  {
   "cell_type": "markdown",
   "id": "cea8dd4e",
   "metadata": {},
   "source": [
    "再帰関数\n",
    "=======\n",
    "\n",
    "再帰関数は初心者にとっては難しい概念ですが、\n",
    "ステップバイステップで理解すれば、それほど難しくはありません。\n",
    "\n",
    "まず、関数から関数を呼べることを確認します。"
   ]
  },
  {
   "cell_type": "code",
   "execution_count": 1,
   "id": "9381ad63",
   "metadata": {},
   "outputs": [
    {
     "name": "stdout",
     "output_type": "stream",
     "text": [
      "ネコ\n",
      "ネコ\n",
      "コネコ\n"
     ]
    }
   ],
   "source": [
    "def neko():\n",
    "    print('ネコ')\n",
    "\n",
    "def koneko():\n",
    "    print('コネコ')\n",
    "\n",
    "def main():\n",
    "    neko()\n",
    "    neko()\n",
    "    koneko()\n",
    "\n",
    "main()"
   ]
  },
  {
   "cell_type": "markdown",
   "id": "16a3b735",
   "metadata": {},
   "source": [
    "では、mainから`neko`だけを呼び出して、同じ出力を得るにはどうしたらよいでしょうか。"
   ]
  },
  {
   "cell_type": "code",
   "execution_count": 2,
   "id": "b41b30d8",
   "metadata": {},
   "outputs": [
    {
     "name": "stdout",
     "output_type": "stream",
     "text": [
      "ネコ\n"
     ]
    }
   ],
   "source": [
    "def main():\n",
    "    neko() # mainからは`neko`だけを呼び出す\n",
    "\n",
    "main()"
   ]
  },
  {
   "cell_type": "markdown",
   "id": "da1d8b7c",
   "metadata": {},
   "source": [
    "解答の1つを示します。"
   ]
  },
  {
   "cell_type": "code",
   "execution_count": 3,
   "id": "94805889",
   "metadata": {},
   "outputs": [
    {
     "name": "stdout",
     "output_type": "stream",
     "text": [
      "ネコ\n",
      "ネコ\n",
      "コネコ\n"
     ]
    }
   ],
   "source": [
    "def neko():\n",
    "    print('ネコ')\n",
    "    print('ネコ')\n",
    "    koneko()\n",
    "\n",
    "def main():\n",
    "    neko()\n",
    "\n",
    "main()"
   ]
  },
  {
   "cell_type": "markdown",
   "id": "767bc177",
   "metadata": {},
   "source": [
    "これは1つの例であり、他にも様々な方法が考えつくでしょう。\n",
    "ここで学びたいのは、関数から関数を呼べるということです。\n",
    "\n",
    "次に、1つの関数で同じような出力をする関数を作ります。"
   ]
  },
  {
   "cell_type": "code",
   "execution_count": 4,
   "id": "2fd3bd61",
   "metadata": {},
   "outputs": [
    {
     "name": "stdout",
     "output_type": "stream",
     "text": [
      "ネコ\n",
      "ネコ\n",
      "コネコ\n"
     ]
    }
   ],
   "source": [
    "def neko_or_koneko(b):\n",
    "    if b == 0:\n",
    "        print('コネコ')\n",
    "    else:\n",
    "        print('ネコ')\n",
    "\n",
    "neko_or_koneko(2)\n",
    "neko_or_koneko(1)\n",
    "neko_or_koneko(0)"
   ]
  },
  {
   "cell_type": "markdown",
   "id": "11503e4d",
   "metadata": {},
   "source": [
    "この関数は、0を渡したら'コネコ'を、0以外は'ネコ'を表示します。\n",
    "このように与える引数で関数の動作を変えることができます。\n",
    "\n",
    "これを`for`文で書くとどうなるでしょうか？\n",
    "前のコードを見て、与えてる引数の値がカウントダウンされていることに気づきましたか？"
   ]
  },
  {
   "cell_type": "code",
   "execution_count": 5,
   "id": "67f65910",
   "metadata": {},
   "outputs": [
    {
     "name": "stdout",
     "output_type": "stream",
     "text": [
      "ネコ\n",
      "ネコ\n",
      "コネコ\n"
     ]
    }
   ],
   "source": [
    "for i in range(2, -1, -1):\n",
    "    neko_or_koneko(i)"
   ]
  },
  {
   "cell_type": "markdown",
   "id": "a4a8f689",
   "metadata": {},
   "source": [
    "前のプログラムがスッキリしましたね。\n",
    "0が終わりを意味しているわけです。\n",
    "カウントダウンという考えではなくカウントアップにしてしまうと、\n",
    "どこで終わるかの数値を指定しないといけなくなるため、関数に余分な引数を与える必要が出てきてしまいます。\n",
    "\n",
    "さらに`for`文まで無くしてみましょう。\n",
    "そのためには、`neko_or_koneko`の中で`neko_or_koneko`を呼び出すようにします。\n",
    "このように、関数の中で自分自身を呼び出すことを再帰呼び出しといい、そのような関数を**再帰関数**といいます。"
   ]
  },
  {
   "cell_type": "code",
   "execution_count": 6,
   "id": "6cd7081e",
   "metadata": {},
   "outputs": [
    {
     "name": "stdout",
     "output_type": "stream",
     "text": [
      "ネコ\n",
      "ネコ\n",
      "コネコ\n"
     ]
    }
   ],
   "source": [
    "def neko_or_koneko(b):\n",
    "    if b == 0:\n",
    "        print('コネコ')\n",
    "    else:\n",
    "        print('ネコ')\n",
    "        neko_or_koneko(b - 1)\n",
    "\n",
    "neko_or_koneko(2)"
   ]
  },
  {
   "cell_type": "markdown",
   "id": "2e635a60",
   "metadata": {},
   "source": [
    "再帰関数の基本的な構造は、以下の通りです。\n",
    "\n",
    "```python\n",
    "def func(n):\n",
    "    if n == 0: # 終了\n",
    "        return val\n",
    "    else: # 継続\n",
    "        #ここで何かして\n",
    "        func(n - 1) # 自分自身を呼び出す\n",
    "```\n",
    "\n",
    "データ構造やアルゴリズムによっては、再帰関数が最も自然な表現方法になります。\n",
    "\n",
    "たとえば、[フィボナッチ数列](https://ja.wikipedia.org/wiki/%E3%83%95%E3%82%A3%E3%83%9C%E3%83%8A%E3%83%83%E3%83%81%E6%95%B0)です。"
   ]
  },
  {
   "cell_type": "code",
   "execution_count": 7,
   "id": "e2a2f930",
   "metadata": {},
   "outputs": [
    {
     "name": "stdout",
     "output_type": "stream",
     "text": [
      "[0, 1, 1, 2, 3, 5, 8, 13, 21, 34]\n"
     ]
    }
   ],
   "source": [
    "def fib(n):\n",
    "    if n == 0:\n",
    "        return 0\n",
    "    elif n == 1:\n",
    "        return 1\n",
    "    else:\n",
    "        return fib(n - 1) + fib(n - 2)\n",
    "\n",
    "fib_list = [fib(i) for i in range(10)]\n",
    "print(fib_list)"
   ]
  }
 ],
 "metadata": {
  "jupytext": {
   "formats": "md:myst",
   "text_representation": {
    "extension": ".md",
    "format_name": "myst",
    "format_version": 0.13,
    "jupytext_version": "1.11.5"
   }
  },
  "kernelspec": {
   "display_name": "Python 3",
   "language": "python",
   "name": "python3"
  },
  "language_info": {
   "codemirror_mode": {
    "name": "ipython",
    "version": 3
   },
   "file_extension": ".py",
   "mimetype": "text/x-python",
   "name": "python",
   "nbconvert_exporter": "python",
   "pygments_lexer": "ipython3",
   "version": "3.11.11"
  },
  "source_map": [
   13,
   22,
   35,
   39,
   44,
   48,
   58,
   65,
   75,
   83,
   86,
   97,
   106,
   123
  ]
 },
 "nbformat": 4,
 "nbformat_minor": 5
}