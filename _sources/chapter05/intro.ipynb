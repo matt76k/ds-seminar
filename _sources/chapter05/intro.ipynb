{
 "cells": [
  {
   "cell_type": "markdown",
   "id": "1d2a3e87",
   "metadata": {},
   "source": [
    "回帰分析\n",
    "========\n",
    "\n",
    "回帰分析は、データの関係性を理解し、予測を行うための統計的手法です。\n",
    "例えば、家の広さと価格の関係や、勉強時間と試験の点数の関係などを調べるために使います。 \n",
    "\n",
    "目的は主に2つあります。\n",
    "- 変数間の関係を理解する（例：家が広くなるほど、価格は高くなる）\n",
    "- 新しいデータを予測する（例：この広さの家の価格はいくらくらいか）\n",
    "\n",
    "変数間の関係の理解という点では相関係数と似たところがありますが、回帰分析はより詳細で具体的な情報を提供します。\n",
    "例えば、相関係数は家の広さと価格に正の相関があることを示すだけですが、\n",
    "回帰分析は家が1平方メートル広くなると、価格が平均して何万円上がるかを具体的に示します。"
   ]
  }
 ],
 "metadata": {
  "jupytext": {
   "formats": "md:myst",
   "text_representation": {
    "extension": ".md",
    "format_name": "myst",
    "format_version": 0.13,
    "jupytext_version": "1.11.5"
   }
  },
  "kernelspec": {
   "display_name": "Python 3",
   "language": "python",
   "name": "python3"
  },
  "source_map": [
   13
  ]
 },
 "nbformat": 4,
 "nbformat_minor": 5
}