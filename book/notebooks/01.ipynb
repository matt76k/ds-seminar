{
 "cells": [
  {
   "cell_type": "markdown",
   "id": "3f3eea89-cbf5-4fdb-b106-c07c466b4e63",
   "metadata": {},
   "source": [
    "# 演習"
   ]
  },
  {
   "cell_type": "markdown",
   "id": "252c4796-df92-4bbf-a9d0-d0e2468731f2",
   "metadata": {},
   "source": [
    "- リスト`scores`の要素を変えて、出力結果の変化を確認してみましょう\n",
    "- `average`という変数名を自分の好きな名前に変えてプログラムを動かしてみましょう"
   ]
  },
  {
   "cell_type": "code",
   "execution_count": 1,
   "id": "a78eedaf-ca66-4fe8-9062-1187df49266c",
   "metadata": {},
   "outputs": [
    {
     "name": "stdout",
     "output_type": "stream",
     "text": [
      "Average: 78.6\n"
     ]
    }
   ],
   "source": [
    "scores = [75, 82, 68, 90, 78]\n",
    "average = (scores[0] + scores[1] + scores[2] + scores[3] + scores[4]) / 5\n",
    "print(\"Average:\", average)"
   ]
  },
  {
   "cell_type": "markdown",
   "id": "ee066b90-2a33-48f3-84e2-91e9a87648c8",
   "metadata": {},
   "source": [
    "- リスト`scores`の要素数を偶数にして、出力結果の変化を確認しましょう"
   ]
  },
  {
   "cell_type": "code",
   "execution_count": 2,
   "id": "b53f5e70-5860-4b8f-ba24-cc9c1d43a9d9",
   "metadata": {},
   "outputs": [
    {
     "name": "stdout",
     "output_type": "stream",
     "text": [
      "Median: 78\n"
     ]
    }
   ],
   "source": [
    "scores = [75, 82, 68, 90, 78]\n",
    "# データをソートする\n",
    "sorted_scores = sorted(scores)\n",
    "# データの個数nを求める\n",
    "n = len(sorted_scores)\n",
    "\n",
    "if n % 2 == 0: # nが偶数\n",
    "    a = sorted_scores[n // 2 - 1]\n",
    "    b = sorted_scores[n // 2]\n",
    "    median = (a + b) / 2\n",
    "else:\n",
    "    median = sorted_scores[n // 2]\n",
    "print(f\"Median: {median}\")"
   ]
  },
  {
   "cell_type": "markdown",
   "id": "89ec4db3-5e48-42a2-a0c8-ec3a933c01ee",
   "metadata": {},
   "source": [
    "- リスト`x`の平均値、中央値、最頻値を確認しましょう"
   ]
  },
  {
   "cell_type": "code",
   "execution_count": null,
   "id": "4fb36554-52dc-4462-b0b5-6d9b13038995",
   "metadata": {},
   "outputs": [],
   "source": [
    "x = [69, 78, 92, 79, 70, 65, 69, 3, 48, 16563439]"
   ]
  },
  {
   "cell_type": "markdown",
   "id": "8383fabc-17de-46ae-977f-7375b3896d51",
   "metadata": {},
   "source": [
    "- add関数を3つの引数を取り、その足した結果を返すようにしましょう"
   ]
  },
  {
   "cell_type": "code",
   "execution_count": 3,
   "id": "e1030744-6273-49e5-8ec6-24c79e01ba6b",
   "metadata": {},
   "outputs": [
    {
     "name": "stdout",
     "output_type": "stream",
     "text": [
      "None\n"
     ]
    }
   ],
   "source": [
    "def add(x, y):\n",
    "    x + y\n",
    "\n",
    "print(add(2, 3))"
   ]
  },
  {
   "cell_type": "markdown",
   "id": "6f649542-a8e6-4889-a611-a679039bfbcf",
   "metadata": {},
   "source": [
    "xにあるデータの個数、平均、分散、標準偏差を確認しましょう"
   ]
  },
  {
   "cell_type": "code",
   "execution_count": 4,
   "id": "350191ea-591a-4985-a782-3a9d4046b057",
   "metadata": {},
   "outputs": [],
   "source": [
    "import numpy as np\n",
    "x = list(np.random.normal(0, 1, 10000))"
   ]
  }
 ],
 "metadata": {
  "kernelspec": {
   "display_name": "Python 3 (ipykernel)",
   "language": "python",
   "name": "python3"
  },
  "language_info": {
   "codemirror_mode": {
    "name": "ipython",
    "version": 3
   },
   "file_extension": ".py",
   "mimetype": "text/x-python",
   "name": "python",
   "nbconvert_exporter": "python",
   "pygments_lexer": "ipython3",
   "version": "3.12.3"
  }
 },
 "nbformat": 4,
 "nbformat_minor": 5
}
